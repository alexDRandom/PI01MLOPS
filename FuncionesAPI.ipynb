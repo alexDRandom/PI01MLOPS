{
 "cells": [
  {
   "cell_type": "code",
   "execution_count": 24,
   "metadata": {},
   "outputs": [],
   "source": [
    "from fastapi import FastAPI\n",
    "import pandas as pd\n",
    "from unidecode import unidecode\n",
    "from sklearn.feature_extraction.text import TfidfVectorizer\n",
    "from sklearn.metrics.pairwise import linear_kernel\n",
    "from datetime import datetime\n",
    "import scipy.sparse as sp"
   ]
  },
  {
   "cell_type": "code",
   "execution_count": 25,
   "metadata": {},
   "outputs": [],
   "source": [
    "# cargo el dataset limpio\n",
    "df = pd.read_csv('movie_dataset_clean.csv')"
   ]
  },
  {
   "cell_type": "code",
   "execution_count": 26,
   "metadata": {},
   "outputs": [],
   "source": [
    "def peliculas_mes(mes: str):\n",
    "    '''\n",
    "    Retorna la cantidad de películas que se estrenaron en un mes específico.\n",
    "\n",
    "    Args:\n",
    "        mes (str): El nombre del mes para el cual se desea obtener la información. \n",
    "        Puede ser el nombre del mes en inglés o en español.\n",
    "\n",
    "    Returns:\n",
    "        dict: Un diccionario que contiene el nombre del mes (en formato capitalizado), \n",
    "        y la cantidad de películas que se estrenaron en ese mes.\n",
    "\n",
    "    '''\n",
    "    # diccionario de mapeo de meses en inglés a español\n",
    "    meses_ingles = {\n",
    "        'January': 'enero',\n",
    "        'February': 'febrero',\n",
    "        'March': 'marzo',\n",
    "        'April': 'abril',\n",
    "        'May': 'mayo',\n",
    "        'June': 'junio',\n",
    "        'July': 'julio',\n",
    "        'August': 'agosto',\n",
    "        'September': 'septiembre',\n",
    "        'October': 'octubre',\n",
    "        'November': 'noviembre',\n",
    "        'December': 'diciembre'\n",
    "    }\n",
    "    \n",
    "    # diccionario de mapeo de meses en español a inglés\n",
    "    meses_espanol = {v: k for k, v in meses_ingles.items()}\n",
    "    \n",
    "    # convertir la columna 'release_date' a tipo fecha\n",
    "    df['release_date'] = pd.to_datetime(df['release_date'])\n",
    "\n",
    "    # obtener el nombre del mes en minúsculas\n",
    "    df['mes'] = df['release_date'].dt.month_name().str.lower()\n",
    "    \n",
    "    # verificar si se proporcionó el mes en español\n",
    "    if mes.lower() in meses_espanol:\n",
    "        # filtrar el DataFrame por el mes en inglés correspondiente\n",
    "        df_mes = df[df['mes'] == meses_espanol[mes.lower()].lower()]\n",
    "        nombre_mes = mes.capitalize()\n",
    "    else:\n",
    "        # filtrar el DataFrame por el mes en inglés\n",
    "        df_mes = df[df['mes'] == mes.lower()]\n",
    "        nombre_mes = meses_ingles[df_mes['mes'].iloc[0]].capitalize()\n",
    "    \n",
    "    # obtener la cantidad de películas para ese mes\n",
    "    cantidad = len(df_mes)\n",
    "\n",
    "    \n",
    "    return {'mes': nombre_mes, 'cantidad': cantidad}"
   ]
  },
  {
   "cell_type": "code",
   "execution_count": 27,
   "metadata": {},
   "outputs": [
    {
     "data": {
      "text/plain": [
       "{'mes': 'Diciembre', 'cantidad': 3786}"
      ]
     },
     "execution_count": 27,
     "metadata": {},
     "output_type": "execute_result"
    }
   ],
   "source": [
    "peliculas_mes('Diciembre')"
   ]
  },
  {
   "cell_type": "code",
   "execution_count": 28,
   "metadata": {},
   "outputs": [],
   "source": [
    "def peliculas_dia(dia: str):\n",
    "    '''\n",
    "    Retorna la cantidad de películas que se estrenaron en un día de la semana específico.\n",
    "\n",
    "    Args:\n",
    "        dia (str): El nombre del día de la semana para el cual se desea obtener la información. \n",
    "        Puede ser el nombre del día en inglés o en español.\n",
    "\n",
    "    Returns:\n",
    "        dict: Un diccionario que contiene el nombre del día de la semana (en formato capitalizado), \n",
    "        y la cantidad de películas que se estrenaron en ese día.\n",
    "\n",
    "    '''\n",
    "    \n",
    "    # diccionario de mapeo de días en inglés a español\n",
    "    dias_ingles = {\n",
    "        'Monday': 'lunes',\n",
    "        'Tuesday': 'martes',\n",
    "        'Wednesday': 'miércoles',\n",
    "        'Thursday': 'jueves',\n",
    "        'Friday': 'viernes',\n",
    "        'Saturday': 'sábado',\n",
    "        'Sunday': 'domingo'\n",
    "    }\n",
    "    \n",
    "    # diccionario de mapeo de días en español a inglés\n",
    "    dias_espanol = {unidecode(v): k for k, v in dias_ingles.items()}\n",
    "    \n",
    "    # convertir la columna 'release_date' a tipo fecha\n",
    "    df['release_date'] = pd.to_datetime(df['release_date'])\n",
    "    \n",
    "    # obtener el día de la semana para cada fecha en inglés\n",
    "    df['day_of_week'] = df['release_date'].dt.day_name()\n",
    "    \n",
    "    # filtrar el DataFrame por el día de la semana especificado en español\n",
    "    df_dia = df[df['day_of_week'] == dias_espanol[unidecode(dia.lower())]]\n",
    "    \n",
    "    # obtener el nombre del día de la semana en formato capitalizado\n",
    "    nombre_dia = dia.capitalize()\n",
    "\n",
    "    # obtener la cantidad de películas para ese día\n",
    "    cantidad = len(df_dia)\n",
    "\n",
    "    return {'dia_semana': nombre_dia, 'cantidad': cantidad}"
   ]
  },
  {
   "cell_type": "code",
   "execution_count": 29,
   "metadata": {},
   "outputs": [
    {
     "data": {
      "text/plain": [
       "{'dia_semana': 'Miercoles', 'cantidad': 7035}"
      ]
     },
     "execution_count": 29,
     "metadata": {},
     "output_type": "execute_result"
    }
   ],
   "source": [
    "peliculas_dia('miercoles')"
   ]
  },
  {
   "cell_type": "code",
   "execution_count": 30,
   "metadata": {},
   "outputs": [],
   "source": [
    "def franquicia(franquicia):\n",
    "    '''\n",
    "    Retorna la cantidad de películas, ganancia total y ganancia promedio para una franquicia específica.\n",
    "\n",
    "    Args:\n",
    "        franquicia (str): El nombre de la franquicia de películas.\n",
    "\n",
    "    Returns:\n",
    "        dict: Un diccionario que contiene el nombre de la franquicia (en formato capitalizado), \n",
    "        la cantidad de películas en la franquicia,\n",
    "        la ganancia total de la franquicia formateada con separadores de miles, \n",
    "        y la ganancia promedio de la franquicia formateada con separadores de miles.\n",
    "    \n",
    "    '''\n",
    "\n",
    "    # filtrar las películas que pertenecen a la franquicia especificada\n",
    "    peliculas_franquicia = df[df['belongs_to_collection'].str.contains(franquicia, case=False, na=False)]\n",
    "\n",
    "    # obtener la cantidad de películas para esa franquicia\n",
    "    cantidad = len(peliculas_franquicia)\n",
    "\n",
    "    # calcular la ganancia total y el promedio de ganancia para esa franquicia\n",
    "    ganancia_total = peliculas_franquicia['revenue'].sum()\n",
    "    ganancia_promedio = peliculas_franquicia['revenue'].mean()\n",
    "\n",
    "    return {'franquicia': franquicia.title(), 'cantidad': cantidad, 'ganancia_total': f'{ganancia_total:,}', 'ganancia_promedio': f'{ganancia_promedio:,}'}"
   ]
  },
  {
   "cell_type": "code",
   "execution_count": 31,
   "metadata": {},
   "outputs": [
    {
     "data": {
      "text/plain": [
       "{'franquicia': 'Shrek',\n",
       " 'cantidad': 5,\n",
       " 'ganancia_total': '2,955,807,008.0',\n",
       " 'ganancia_promedio': '591,161,401.6'}"
      ]
     },
     "execution_count": 31,
     "metadata": {},
     "output_type": "execute_result"
    }
   ],
   "source": [
    "franquicia('Shrek')"
   ]
  },
  {
   "cell_type": "code",
   "execution_count": 32,
   "metadata": {},
   "outputs": [],
   "source": [
    "def peliculas_pais(pais):\n",
    "    '''\n",
    "    Retorna la cantidad de películas producidas en un país específico.\n",
    "\n",
    "    Args:\n",
    "        pais (str): El nombre del país.\n",
    "\n",
    "    Returns:\n",
    "        dict: Un diccionario que contiene el nombre del país (en formato capitalizado) y \n",
    "        la cantidad de películas producidas en ese país.\n",
    "\n",
    "    '''\n",
    "\n",
    "    # filtrar las películas producidas en el país especificado\n",
    "    peliculas_pais = df[df['production_countries'].str.contains(pais, case=False, na=False)]\n",
    "\n",
    "    # obtener la cantidad de películas producidas en ese país\n",
    "    cantidad = len(peliculas_pais)\n",
    "\n",
    "    return {'pais': pais.title(), 'cantidad': cantidad}"
   ]
  },
  {
   "cell_type": "code",
   "execution_count": 33,
   "metadata": {},
   "outputs": [
    {
     "data": {
      "text/plain": [
       "{'pais': 'United States', 'cantidad': 21148}"
      ]
     },
     "execution_count": 33,
     "metadata": {},
     "output_type": "execute_result"
    }
   ],
   "source": [
    "peliculas_pais('United States')"
   ]
  },
  {
   "cell_type": "code",
   "execution_count": 34,
   "metadata": {},
   "outputs": [],
   "source": [
    "def productoras(productora:str):\n",
    "    '''\n",
    "    Retorna la ganancia total y la cantidad de películas producidas por una productora específica.\n",
    "\n",
    "    Args:\n",
    "        productora (str): El nombre de la productora.\n",
    "\n",
    "    Returns:\n",
    "        dict: Un diccionario que contiene el nombre de la productora (en formato capitalizado), \n",
    "        la ganancia total de las películas producidas por la productora formateada con separadores de miles,\n",
    "        y la cantidad de películas producidas por la productora.\n",
    "    \n",
    "    '''\n",
    "\n",
    "# filtrar el DataFrame por las filas que contienen la productora especificada en la columna 'production_companies'\n",
    "    filtered_df = df[df['production_companies'].str.contains(productora, case=False, na=False)]\n",
    "\n",
    "    \n",
    "    # calcular el total de 'revenue' y se cuenta el numero de peliculas \n",
    "    ganancia_total = filtered_df['revenue'].sum()\n",
    "    cantidad = filtered_df.shape[0] \n",
    "\n",
    "    return {'productora': productora.title(), 'ganancia_total': f'{ganancia_total:,}', 'cantidad': cantidad}"
   ]
  },
  {
   "cell_type": "code",
   "execution_count": 35,
   "metadata": {},
   "outputs": [
    {
     "data": {
      "text/plain": [
       "{'productora': 'Warner Bros',\n",
       " 'ganancia_total': '67,477,165,267.0',\n",
       " 'cantidad': 1376}"
      ]
     },
     "execution_count": 35,
     "metadata": {},
     "output_type": "execute_result"
    }
   ],
   "source": [
    "productoras('Warner Bros')"
   ]
  },
  {
   "cell_type": "code",
   "execution_count": 36,
   "metadata": {},
   "outputs": [],
   "source": [
    "def retorno(pelicula:str):\n",
    "    \"\"\"\n",
    "    Retorna información sobre una película específica.\n",
    "\n",
    "    Args:\n",
    "        pelicula (str): El título de la película.\n",
    "\n",
    "    Returns:\n",
    "        dict: Un diccionario con los siguientes valores:\n",
    "            - 'pelicula' (str): El título de la película en formato capitalizado.\n",
    "            - 'inversion' (str): La inversión de la película formateada con separadores de miles.\n",
    "            - 'ganancia' (str): La ganancia de la película formateada con separadores de miles.\n",
    "            - 'retorno' (str): El retorno de la película redondeado a 2 decimales y formateado con separadores de miles.\n",
    "            - 'anio' (int): El año en el que se lanzó la película.\n",
    "\n",
    "    \"\"\"\n",
    "    \n",
    "\n",
    "    # filtrar el DataFrame por el título de la película especificada\n",
    "    pelicula_filtrada = df[df['title'].str.contains(pelicula, case=False, na=False)]\n",
    "\n",
    "    # obtener los valores de inversión, ganancia, retorno y año de lanzamiento\n",
    "    inversion = pelicula_filtrada['budget'].values[0]\n",
    "    ganancia = pelicula_filtrada['revenue'].values[0]\n",
    "    retorno = round(pelicula_filtrada['return'].values[0],2)\n",
    "    anio = int(pelicula_filtrada['release_year'].values[0])\n",
    "    \n",
    "    return {'pelicula': pelicula.title(), 'inversion': f'{inversion:,}', 'ganancia': f'{ganancia:,}', 'retorno': f'{retorno:,}', 'anio': anio}"
   ]
  },
  {
   "cell_type": "code",
   "execution_count": 37,
   "metadata": {},
   "outputs": [
    {
     "data": {
      "text/plain": [
       "{'pelicula': 'Jumanji',\n",
       " 'inversion': '65,000,000.0',\n",
       " 'ganancia': '262,797,249.0',\n",
       " 'retorno': '4.04',\n",
       " 'anio': 1995}"
      ]
     },
     "execution_count": 37,
     "metadata": {},
     "output_type": "execute_result"
    }
   ],
   "source": [
    "retorno('jumanji')"
   ]
  },
  {
   "cell_type": "code",
   "execution_count": 38,
   "metadata": {},
   "outputs": [],
   "source": [
    "# hacemos un fillna para rellenar los vacios de nuevo, ya que me dio problemas cuando cargue de nuevo el dataset\n",
    "df.fillna({'overview': '', 'tagline': '', 'genres': '', 'belongs_to_collection': ''}, inplace=True)\n"
   ]
  },
  {
   "cell_type": "code",
   "execution_count": 39,
   "metadata": {},
   "outputs": [],
   "source": [
    "def preprocess_text(text):\n",
    "    \"\"\"\n",
    "    Realiza el preprocesamiento de un texto dado.\n",
    "    \n",
    "    Args:\n",
    "        text (str): El texto a preprocesar.\n",
    "    \n",
    "    Returns:\n",
    "        str: El texto preprocesado.\n",
    "    \n",
    "    \"\"\"\n",
    "\n",
    "    # convierte el texto a minúsculas\n",
    "    text = text.lower()\n",
    "\n",
    "    # elimina los caracteres de puntuación\n",
    "    text = ''.join(c for c in text if c.isalnum() or c.isspace())\n",
    "    # aplica stemming o lematización si es necesario\n",
    "    \n",
    "    return text"
   ]
  },
  {
   "cell_type": "code",
   "execution_count": 40,
   "metadata": {},
   "outputs": [],
   "source": [
    "# preprocesado de las columnas overview, tagline, genres y belong_to_collection\n",
    "df['processed_text'] = df['overview'] + ' ' + df['tagline'] + ' ' + df['belongs_to_collection'] + ' ' + df['genres']\n",
    "df['processed_text'] = df['processed_text'].map(preprocess_text)"
   ]
  },
  {
   "cell_type": "code",
   "execution_count": 41,
   "metadata": {},
   "outputs": [],
   "source": [
    "# calcula TF-IDF matrix\n",
    "tfidf = TfidfVectorizer(stop_words='english')\n",
    "tfidf_matrix_alpha = tfidf.fit_transform(df['processed_text'])\n",
    "tfidf_matrix_beta = tfidf.fit_transform(df['title']) / 1.5\n",
    "tfidf_matrix_gama = tfidf.fit_transform(df['genres']) * 1.15\n",
    "\n",
    "tfidf_matrix = sp.hstack([tfidf_matrix_alpha, tfidf_matrix_beta, tfidf_matrix_gama]).tocsr()"
   ]
  },
  {
   "cell_type": "code",
   "execution_count": 42,
   "metadata": {},
   "outputs": [],
   "source": [
    "def recomendacion(titulo:str):\n",
    "    \"\"\"\n",
    "    Lleva a cabo la recomendación de películas basada en la similitud de contenido utilizando TF-IDF.\n",
    "\n",
    "    Args:\n",
    "        titulo (str): El título de la película de referencia para la cual se realizará la recomendación.\n",
    "\n",
    "    Returns:\n",
    "        list: Una lista que contiene los títulos de las películas recomendadas con mayor similitud de contenido.\n",
    "    \"\"\"\n",
    "\n",
    "    movie = df[df['title'].str.contains(titulo, case=False, na=False)]\n",
    "    if movie.empty:\n",
    "        return [{'error': 'Movie not found'}]\n",
    "    \n",
    "    movie_index = movie.index[0]\n",
    "    movie_vector = tfidf_matrix.getrow(movie_index)\n",
    "    \n",
    "    # Calcula la similitud del coseno entre la película de entrada y todas las demás películas\n",
    "    cosine_similarities = linear_kernel(movie_vector, tfidf_matrix).flatten()\n",
    "    \n",
    "    # Obtiene los índices de las películas ordenadas por puntajes de similitud\n",
    "    similar_movie_indices = cosine_similarities.argsort()[::-1]\n",
    "    \n",
    "    # Filtra la propia película de entrada\n",
    "    similar_movie_indices = similar_movie_indices[similar_movie_indices != movie_index]\n",
    "    \n",
    "    # Filtra las películas con un puntaje de similitud inferior a 0.35\n",
    "    high_similarity_indices = similar_movie_indices[cosine_similarities[similar_movie_indices] >= 0.2]\n",
    "    \n",
    "    # Obtiene los títulos de las películas con mayor similitud\n",
    "    recommended_movies = df.iloc[high_similarity_indices[:5]]['title'].tolist()\n",
    "    \n",
    "    return recommended_movies\n"
   ]
  },
  {
   "cell_type": "code",
   "execution_count": 43,
   "metadata": {},
   "outputs": [
    {
     "data": {
      "text/html": [
       "<div>\n",
       "<style scoped>\n",
       "    .dataframe tbody tr th:only-of-type {\n",
       "        vertical-align: middle;\n",
       "    }\n",
       "\n",
       "    .dataframe tbody tr th {\n",
       "        vertical-align: top;\n",
       "    }\n",
       "\n",
       "    .dataframe thead th {\n",
       "        text-align: right;\n",
       "    }\n",
       "</style>\n",
       "<table border=\"1\" class=\"dataframe\">\n",
       "  <thead>\n",
       "    <tr style=\"text-align: right;\">\n",
       "      <th></th>\n",
       "      <th>title</th>\n",
       "    </tr>\n",
       "  </thead>\n",
       "  <tbody>\n",
       "    <tr>\n",
       "      <th>35136</th>\n",
       "      <td>The Hunchedback Horse</td>\n",
       "    </tr>\n",
       "    <tr>\n",
       "      <th>10592</th>\n",
       "      <td>The Chronicles of Narnia: The Lion, the Witch ...</td>\n",
       "    </tr>\n",
       "    <tr>\n",
       "      <th>30367</th>\n",
       "      <td>Fantastic Beasts and Where to Find Them</td>\n",
       "    </tr>\n",
       "    <tr>\n",
       "      <th>21357</th>\n",
       "      <td>Percy Jackson: Sea of Monsters</td>\n",
       "    </tr>\n",
       "    <tr>\n",
       "      <th>28733</th>\n",
       "      <td>Pan</td>\n",
       "    </tr>\n",
       "  </tbody>\n",
       "</table>\n",
       "</div>"
      ],
      "text/plain": [
       "                                                   title\n",
       "35136                              The Hunchedback Horse\n",
       "10592  The Chronicles of Narnia: The Lion, the Witch ...\n",
       "30367            Fantastic Beasts and Where to Find Them\n",
       "21357                     Percy Jackson: Sea of Monsters\n",
       "28733                                                Pan"
      ]
     },
     "execution_count": 43,
     "metadata": {},
     "output_type": "execute_result"
    }
   ],
   "source": [
    "recomendacion('jumanji')"
   ]
  }
 ],
 "metadata": {
  "kernelspec": {
   "display_name": "Python 3",
   "language": "python",
   "name": "python3"
  },
  "language_info": {
   "codemirror_mode": {
    "name": "ipython",
    "version": 3
   },
   "file_extension": ".py",
   "mimetype": "text/x-python",
   "name": "python",
   "nbconvert_exporter": "python",
   "pygments_lexer": "ipython3",
   "version": "3.11.2"
  },
  "orig_nbformat": 4
 },
 "nbformat": 4,
 "nbformat_minor": 2
}
